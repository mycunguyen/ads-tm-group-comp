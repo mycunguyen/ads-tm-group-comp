{
 "cells": [
  {
   "cell_type": "markdown",
   "id": "f3e39063",
   "metadata": {},
   "source": [
    "# ADS 509 Module 3: Group Comparison \n",
    "\n",
    "The task of comparing two groups of text is fundamental to textual analysis. There are innumerable applications: survey respondents from different segments of customers, speeches by different political parties, words used in Tweets by different constituencies, etc. In this assignment you will build code to effect comparisons between groups of text data, using the ideas learned in reading and lecture.\n",
    "\n",
    "This assignment asks you to analyze the lyrics and Twitter descriptions for the two artists you selected in Module 1. If the results from that pull were not to your liking, you are welcome to use the zipped data from the “Assignment Materials” section. Specifically, you are asked to do the following: \n",
    "\n",
    "* Read in the data, normalize the text, and tokenize it. When you tokenize your Twitter descriptions, keep hashtags and emojis in your token set. \n",
    "* Calculate descriptive statistics on the two sets of lyrics and compare the results. \n",
    "* For each of the four corpora, find the words that are unique to that corpus. \n",
    "* Build word clouds for all four corpora. \n",
    "\n",
    "Each one of the analyses has a section dedicated to it below. Before beginning the analysis there is a section for you to read in the data and do your cleaning (tokenization and normalization). \n"
   ]
  },
  {
   "cell_type": "markdown",
   "id": "c6e65f73",
   "metadata": {},
   "source": [
    "## General Assignment Instructions\n",
    "\n",
    "These instructions are included in every assignment, to remind you of the coding standards for the class. Feel free to delete this cell after reading it. \n",
    "\n",
    "One sign of mature code is conforming to a style guide. We recommend the [Google Python Style Guide](https://google.github.io/styleguide/pyguide.html). If you use a different style guide, please include a cell with a link. \n",
    "\n",
    "Your code should be relatively easy-to-read, sensibly commented, and clean. Writing code is a messy process, so please be sure to edit your final submission. Remove any cells that are not needed or parts of cells that contain unnecessary code. Remove inessential `import` statements and make sure that all such statements are moved into the designated cell. \n",
    "\n",
    "Make use of non-code cells for written commentary. These cells should be grammatical and clearly written. In some of these cells you will have questions to answer. The questions will be marked by a \"Q:\" and will have a corresponding \"A:\" spot for you. *Make sure to answer every question marked with a `Q:` for full credit.* \n"
   ]
  },
  {
   "cell_type": "code",
   "execution_count": 1,
   "id": "abe420bf",
   "metadata": {},
   "outputs": [],
   "source": [
    "import os\n",
    "import re\n",
    "import emoji\n",
    "import pandas as pd\n",
    "import string\n",
    "import matplotlib.pyplot as plt\n",
    "\n",
    "from collections import Counter, defaultdict\n",
    "from nltk.corpus import stopwords\n",
    "from string import punctuation\n",
    "from wordcloud import WordCloud \n",
    "from nltk.tokenize import word_tokenize\n",
    "\n",
    "from sklearn.feature_extraction.text import TfidfTransformer, CountVectorizer\n"
   ]
  },
  {
   "cell_type": "code",
   "execution_count": 4,
   "id": "110cf1f6",
   "metadata": {},
   "outputs": [
    {
     "name": "stderr",
     "output_type": "stream",
     "text": [
      "[nltk_data] Downloading package punkt to\n",
      "[nltk_data]     C:\\Users\\micha\\AppData\\Roaming\\nltk_data...\n",
      "[nltk_data]   Package punkt is already up-to-date!\n"
     ]
    },
    {
     "data": {
      "text/plain": [
       "True"
      ]
     },
     "execution_count": 4,
     "metadata": {},
     "output_type": "execute_result"
    }
   ],
   "source": [
    "import nltk\n",
    "nltk.download('punkt')"
   ]
  },
  {
   "cell_type": "code",
   "execution_count": 6,
   "id": "bcbe6342",
   "metadata": {},
   "outputs": [],
   "source": [
    "# Place any addtional functions or constants you need here. \n",
    "\n",
    "# Some punctuation variations\n",
    "punctuation = set(punctuation) # speeds up comparison\n",
    "tw_punct = punctuation - {\"#\"}\n",
    "\n",
    "# Stopwords\n",
    "sw = stopwords.words(\"english\")\n",
    "\n",
    "# Two useful regex\n",
    "whitespace_pattern = re.compile(r\"\\s+\")\n",
    "hashtag_pattern = re.compile(r\"^#[0-9a-zA-Z]+\")\n",
    "\n",
    "# It's handy to have a full set of emojis\n",
    "all_language_emojis = set()\n",
    "\n",
    "for country in emoji.EMOJI_DATA : \n",
    "    for em in emoji.EMOJI_DATA[country] : \n",
    "        all_language_emojis.add(em)\n",
    "\n",
    "# and now our functions\n",
    "def descriptive_stats(tokens, num_tokens = 5, verbose=True) :\n",
    "    unique_tokens = len(set(tokens))\n",
    "    num_characters = sum(len(token) for token in tokens)\n",
    "    lex_div = unique_tokens / len(tokens)\n",
    "    common_tokens = Counter(tokens).most_common(num_tokens)\n",
    "    \n",
    "    if verbose:\n",
    "        print(f\"Number of tokens: {len(tokens)}\")\n",
    "        print(f\"Number of unique tokens: {unique_tokens}\")\n",
    "        print(f\"Number of characters: {num_characters}\")\n",
    "        print(f\"Lexical diversity: {lex_div}\")\n",
    "        print(f\"{num_tokens} most common tokens: {common_tokens}\")\n",
    "    \n",
    "    return len(tokens), unique_tokens, num_characters, lex_div, common_tokens\n",
    "\n",
    "\n",
    "    \n",
    "def contains_emoji(s):\n",
    "    \n",
    "    s = str(s)\n",
    "    emojis = [ch for ch in s if emoji.is_emoji(ch)]\n",
    "\n",
    "    return(len(emojis) > 0)\n",
    "\n",
    "\n",
    "def remove_stop(tokens) :\n",
    "    # modify this function to remove stopwords\n",
    "    return(tokens)\n",
    " \n",
    "def remove_punctuation(text, punct_set=tw_punct) : \n",
    "    return(\"\".join([ch for ch in text if ch not in punct_set]))\n",
    "\n",
    "def tokenize(text) : \n",
    "    \"\"\" Splitting on whitespace rather than the book's tokenize function. That \n",
    "        function will drop tokens like '#hashtag' or '2A', which we need for Twitter. \"\"\"\n",
    "    \n",
    "    # modify this function to return tokens\n",
    "    return(text)\n",
    "\n",
    "def prepare(text, pipeline) : \n",
    "    tokens = str(text)\n",
    "    \n",
    "    for transform in pipeline : \n",
    "        tokens = transform(tokens)\n",
    "        \n",
    "    return(tokens)\n"
   ]
  },
  {
   "cell_type": "markdown",
   "id": "47735524",
   "metadata": {},
   "source": [
    "## Data Ingestion\n",
    "\n",
    "Use this section to ingest your data into the data structures you plan to use. Typically this will be a dictionary or a pandas DataFrame."
   ]
  },
  {
   "cell_type": "code",
   "execution_count": 7,
   "id": "ff88201f",
   "metadata": {},
   "outputs": [],
   "source": [
    "# Feel free to use the below cells as an example or read in the data in a way you prefer\n",
    "\n",
    "data_location = \"C:/Users/micha/applied text mining/mod 1/M1 Results/\"\n",
    "twitter_folder = \"twitter/\"\n",
    "lyrics_folder = \"lyrics/\"\n",
    "\n",
    "artist_files = {'cher':'cher_followers_data.txt',\n",
    "                'robyn':'robynkonichiwa_followers_data.txt'}\n"
   ]
  },
  {
   "cell_type": "code",
   "execution_count": 8,
   "id": "df415d65",
   "metadata": {},
   "outputs": [],
   "source": [
    "twitter_data = pd.read_csv(data_location + twitter_folder + artist_files['cher'],\n",
    "                           sep=\"\\t\",\n",
    "                           quoting=3)\n",
    "\n",
    "twitter_data['artist'] = \"cher\""
   ]
  },
  {
   "cell_type": "code",
   "execution_count": 9,
   "id": "966804cb",
   "metadata": {},
   "outputs": [],
   "source": [
    "twitter_data_2 = pd.read_csv(data_location + twitter_folder + artist_files['robyn'],\n",
    "                             sep=\"\\t\",\n",
    "                             quoting=3)\n",
    "twitter_data_2['artist'] = \"robyn\"\n",
    "\n",
    "twitter_data = pd.concat([\n",
    "    twitter_data,twitter_data_2])\n",
    "    \n",
    "del(twitter_data_2)"
   ]
  },
  {
   "cell_type": "code",
   "execution_count": 10,
   "id": "674767d3",
   "metadata": {},
   "outputs": [],
   "source": [
    "# Setting artists\n",
    "artists = ['cher', 'robyn']\n",
    "\n",
    "# Dict to hold lyric data\n",
    "lyrics_data = {}\n",
    "\n",
    "for artist in artists:\n",
    "    # Path for artist's lyrics folder\n",
    "    artist_folder = os.path.join(data_location, lyrics_folder, artist)\n",
    "\n",
    "    # List of all the song files in the artist's lyrics folder\n",
    "    song_files = os.listdir(artist_folder)\n",
    "\n",
    "    # Dict to hold the artist's songs\n",
    "    artist_songs = {}\n",
    "\n",
    "    for song_file in song_files:\n",
    "        # Path to the song file\n",
    "        song_path = os.path.join(artist_folder, song_file)\n",
    "\n",
    "        with open(song_path, 'r') as file:\n",
    "            lyrics = file.read().strip()\n",
    "\n",
    "        artist_songs[song_file[:-4]] = lyrics\n",
    "\n",
    "    # Adding song to lyric dict\n",
    "    lyrics_data[artist] = artist_songs"
   ]
  },
  {
   "cell_type": "markdown",
   "id": "f9892d14",
   "metadata": {},
   "source": [
    "## Tokenization and Normalization\n",
    "\n",
    "In this next section, tokenize and normalize your data. We recommend the following cleaning. \n",
    "\n",
    "**Lyrics** \n",
    "\n",
    "* Remove song titles\n",
    "* Casefold to lowercase\n",
    "* Remove stopwords (optional)\n",
    "* Remove punctuation\n",
    "* Split on whitespace\n",
    "\n",
    "Removal of stopwords is up to you. Your descriptive statistic comparison will be different if you include stopwords, though TF-IDF should still find interesting features for you. Note that we remove stopwords before removing punctuation because the stopword set includes punctuation.\n",
    "\n",
    "**Twitter Descriptions** \n",
    "\n",
    "* Casefold to lowercase\n",
    "* Remove stopwords\n",
    "* Remove punctuation other than emojis or hashtags\n",
    "* Split on whitespace\n",
    "\n",
    "Removing stopwords seems sensible for the Twitter description data. Remember to leave in emojis and hashtags, since you analyze those. "
   ]
  },
  {
   "cell_type": "code",
   "execution_count": 11,
   "id": "b27feb51",
   "metadata": {},
   "outputs": [],
   "source": [
    "def lowercase(text):\n",
    "    return text.lower()\n",
    "\n",
    "def remove_punctuation(text):\n",
    "    return text.translate(str.maketrans('', '', string.punctuation))\n",
    "\n",
    "def tokenize(text):\n",
    "    return text.split()\n",
    "\n",
    "def remove_stopwords(text):\n",
    "    stop_words = set(stopwords.words('english'))\n",
    "    return [word for word in text if word not in stop_words]\n",
    "\n",
    "def contains_emoji(text):\n",
    "    emoji_pattern = re.compile(\"[\"\n",
    "                           u\"\\U0001F600-\\U0001F64F\"  # emoticons\n",
    "                           u\"\\U0001F300-\\U0001F5FF\"  # pictographs\n",
    "                           u\"\\U0001F680-\\U0001F6FF\"  # map symbols\n",
    "                           u\"\\U0001F1E0-\\U0001F1FF\"  # flags\n",
    "                           u\"\\U00002702-\\U000027B0\"\n",
    "                           u\"\\U000024C2-\\U0001F251\"\n",
    "                           \"]+\", flags=re.UNICODE)\n",
    "    return bool(emoji_pattern.search(text))"
   ]
  },
  {
   "cell_type": "code",
   "execution_count": 12,
   "id": "fded8256",
   "metadata": {},
   "outputs": [],
   "source": [
    "def lowercase(text):\n",
    "    # Checks if text is string\n",
    "    if isinstance(text, str): \n",
    "        return text.lower()\n",
    "    else:\n",
    "        return \"\"  "
   ]
  },
  {
   "cell_type": "code",
   "execution_count": 26,
   "id": "9ff35af2",
   "metadata": {},
   "outputs": [],
   "source": [
    "def apply_pipeline(df, col_name, pipeline):\n",
    "    if col_name in df.columns:\n",
    "        df[\"tokens\"] = df[col_name].apply(lambda text: prepare(text, pipeline=pipeline) if isinstance(text, str) else [])\n",
    "        df[\"num_tokens\"] = df[\"tokens\"].apply(len)\n",
    "        df['has_emoji'] = df[col_name].apply(lambda text: contains_emoji(text) if isinstance(text, str) else False)\n",
    "    else:\n",
    "        print(f\"No '{col_name}' column in dataframe\")\n",
    "\n",
    "# Apply pipelines\n",
    "for artist in lyrics_data:\n",
    "    for song in lyrics_data[artist]:\n",
    "        lyrics_data[artist][song] = prepare(lyrics_data[artist][song], pipeline=lyrics_pipeline)\n",
    "\n",
    "apply_pipeline(twitter_data, \"description\", twitter_pipeline)"
   ]
  },
  {
   "cell_type": "code",
   "execution_count": 14,
   "id": "5ca379eb",
   "metadata": {},
   "outputs": [],
   "source": [
    "def process_text(data, pipeline):\n",
    "    return [pipeline(word) for word in data if isinstance(word, str)]\n",
    "\n",
    "# Apply pipeline to each song lyric\n",
    "for artist in lyrics_data:\n",
    "    for song in lyrics_data[artist]:\n",
    "        lyrics_data[artist][song] = process_text(lyrics_data[artist][song], my_pipeline)\n",
    "        lyrics_data[artist][song] = len(lyrics_data[artist][song])\n",
    "\n",
    "# Apply pipeline to the description\n",
    "if \"description\" in twitter_data.columns:\n",
    "    twitter_data[\"tokens\"] = process_text(twitter_data[\"description\"], my_pipeline)\n",
    "    twitter_data[\"num_tokens\"] = twitter_data[\"tokens\"].apply(len)\n",
    "else:\n",
    "    print(\"No 'description' column in twitter_data\")"
   ]
  },
  {
   "cell_type": "code",
   "execution_count": 27,
   "id": "6cf534be",
   "metadata": {},
   "outputs": [
    {
     "name": "stdout",
     "output_type": "stream",
     "text": [
      "        artist                                        description  \\\n",
      "3114201   cher                                  Oni #Soscuba 🇨🇺🇨🇺   \n",
      "106552   robyn  We are a new British trio called Triple Tone, ...   \n",
      "673647    cher  Follow my ig @anastacia_memes for Anastacia me...   \n",
      "1783653   cher                                     ✖️Barber✖️ 💈⚔️   \n",
      "170840    cher                                        she/her 🙃🙃🙃   \n",
      "1492839   cher  I’m always sad. Gay disaster. He/him. Settler ...   \n",
      "73097     cher  Freedom of Speech. Joie de vivre. Cerebro mata...   \n",
      "2950673   cher  *♡*La vie est comme un roman. Il suffit d'une ...   \n",
      "2980784   cher                                            Chile🇨🇱   \n",
      "1243183   cher  Publishing. Heavily addicted to Yorkshire Gold...   \n",
      "\n",
      "                                                    tokens  \n",
      "3114201                              [oni, #soscuba, 🇨🇺🇨🇺]  \n",
      "106552   [new, british, trio, called, triple, tone,, pe...  \n",
      "673647   [follow, ig, @anastacia_memes, anastacia, memes👀]  \n",
      "1783653                                  [✖️barber✖️, 💈⚔️]  \n",
      "170840                                      [she/her, 🙃🙃🙃]  \n",
      "1492839  [i’m, always, sad., gay, disaster., he/him., s...  \n",
      "73097    [freedom, speech., joie, de, vivre., cerebro, ...  \n",
      "2950673  [*♡*la, vie, est, comme, un, roman., il, suffi...  \n",
      "2980784                                          [chile🇨🇱]  \n",
      "1243183  [publishing., heavily, addicted, yorkshire, go...  \n"
     ]
    }
   ],
   "source": [
    "if \"has_emoji\" in twitter_data.columns:\n",
    "    sample_with_emoji = twitter_data[twitter_data.has_emoji].sample(10)[[\"artist\",\"description\",\"tokens\"]]\n",
    "    print(sample_with_emoji)\n",
    "else:\n",
    "    print(\"No 'has_emoji' column in twitter_data\")"
   ]
  },
  {
   "cell_type": "markdown",
   "id": "7ec69ac9",
   "metadata": {},
   "source": [
    "Let's take a quick look at some descriptions with emojis."
   ]
  },
  {
   "cell_type": "code",
   "execution_count": 16,
   "id": "0a5a0512",
   "metadata": {},
   "outputs": [
    {
     "data": {
      "text/html": [
       "<div>\n",
       "<style scoped>\n",
       "    .dataframe tbody tr th:only-of-type {\n",
       "        vertical-align: middle;\n",
       "    }\n",
       "\n",
       "    .dataframe tbody tr th {\n",
       "        vertical-align: top;\n",
       "    }\n",
       "\n",
       "    .dataframe thead th {\n",
       "        text-align: right;\n",
       "    }\n",
       "</style>\n",
       "<table border=\"1\" class=\"dataframe\">\n",
       "  <thead>\n",
       "    <tr style=\"text-align: right;\">\n",
       "      <th></th>\n",
       "      <th>artist</th>\n",
       "      <th>description</th>\n",
       "      <th>tokens</th>\n",
       "    </tr>\n",
       "  </thead>\n",
       "  <tbody>\n",
       "    <tr>\n",
       "      <th>910783</th>\n",
       "      <td>cher</td>\n",
       "      <td>Contadora Pública, por fin. Practicante de Pol...</td>\n",
       "      <td>Contadora Pública por fin Practicante de Pole ...</td>\n",
       "    </tr>\n",
       "    <tr>\n",
       "      <th>149417</th>\n",
       "      <td>robyn</td>\n",
       "      <td>I have a pig-rabbit! Your argument is invalid!...</td>\n",
       "      <td>I have a pigrabbit Your argument is invalid I ...</td>\n",
       "    </tr>\n",
       "    <tr>\n",
       "      <th>771302</th>\n",
       "      <td>cher</td>\n",
       "      <td>God First, Family Second, Work third. ❤️❤️</td>\n",
       "      <td>God First Family Second Work third ❤️❤️</td>\n",
       "    </tr>\n",
       "    <tr>\n",
       "      <th>1274314</th>\n",
       "      <td>cher</td>\n",
       "      <td>May pag asa pa Pilipinas laban lang #LetLeniLe...</td>\n",
       "      <td>May pag asa pa Pilipinas laban lang LetLeniLea...</td>\n",
       "    </tr>\n",
       "    <tr>\n",
       "      <th>1380639</th>\n",
       "      <td>cher</td>\n",
       "      <td>🔞🇪🇨 law student</td>\n",
       "      <td>🔞🇪🇨 law student</td>\n",
       "    </tr>\n",
       "    <tr>\n",
       "      <th>576163</th>\n",
       "      <td>cher</td>\n",
       "      <td>Se a onda não tem futuro nem rema 🌊</td>\n",
       "      <td>Se a onda não tem futuro nem rema 🌊</td>\n",
       "    </tr>\n",
       "    <tr>\n",
       "      <th>640445</th>\n",
       "      <td>cher</td>\n",
       "      <td>✨Stargirl✨</td>\n",
       "      <td>✨Stargirl✨</td>\n",
       "    </tr>\n",
       "    <tr>\n",
       "      <th>2393945</th>\n",
       "      <td>cher</td>\n",
       "      <td>si el que se enamora pierde estoy dispuesto a ...</td>\n",
       "      <td>si el que se enamora pierde estoy dispuesto a ...</td>\n",
       "    </tr>\n",
       "    <tr>\n",
       "      <th>3121653</th>\n",
       "      <td>cher</td>\n",
       "      <td>♠️Promotional Model | Sport Events Hostess | R...</td>\n",
       "      <td>♠️Promotional Model  Sport Events Hostess  Rec...</td>\n",
       "    </tr>\n",
       "    <tr>\n",
       "      <th>1543676</th>\n",
       "      <td>cher</td>\n",
       "      <td>Author of Cocktail/lifestyle book release in 2...</td>\n",
       "      <td>Author of Cocktaillifestyle book release in 20...</td>\n",
       "    </tr>\n",
       "  </tbody>\n",
       "</table>\n",
       "</div>"
      ],
      "text/plain": [
       "        artist                                        description  \\\n",
       "910783    cher  Contadora Pública, por fin. Practicante de Pol...   \n",
       "149417   robyn  I have a pig-rabbit! Your argument is invalid!...   \n",
       "771302    cher         God First, Family Second, Work third. ❤️❤️   \n",
       "1274314   cher  May pag asa pa Pilipinas laban lang #LetLeniLe...   \n",
       "1380639   cher                                    🔞🇪🇨 law student   \n",
       "576163    cher                Se a onda não tem futuro nem rema 🌊   \n",
       "640445    cher                                         ✨Stargirl✨   \n",
       "2393945   cher  si el que se enamora pierde estoy dispuesto a ...   \n",
       "3121653   cher  ♠️Promotional Model | Sport Events Hostess | R...   \n",
       "1543676   cher  Author of Cocktail/lifestyle book release in 2...   \n",
       "\n",
       "                                                    tokens  \n",
       "910783   Contadora Pública por fin Practicante de Pole ...  \n",
       "149417   I have a pigrabbit Your argument is invalid I ...  \n",
       "771302             God First Family Second Work third ❤️❤️  \n",
       "1274314  May pag asa pa Pilipinas laban lang LetLeniLea...  \n",
       "1380639                                    🔞🇪🇨 law student  \n",
       "576163                 Se a onda não tem futuro nem rema 🌊  \n",
       "640445                                          ✨Stargirl✨  \n",
       "2393945  si el que se enamora pierde estoy dispuesto a ...  \n",
       "3121653  ♠️Promotional Model  Sport Events Hostess  Rec...  \n",
       "1543676  Author of Cocktaillifestyle book release in 20...  "
      ]
     },
     "execution_count": 16,
     "metadata": {},
     "output_type": "execute_result"
    }
   ],
   "source": [
    "twitter_data[twitter_data.has_emoji].sample(10)[[\"artist\",\"description\",\"tokens\"]]"
   ]
  },
  {
   "cell_type": "markdown",
   "id": "4b2c55c9",
   "metadata": {},
   "source": [
    "With the data processed, we can now start work on the assignment questions. \n",
    "\n",
    "Q: What is one area of improvement to your tokenization that you could theoretically carry out? (No need to actually do it; let's not make perfect the enemy of good enough.)\n",
    "\n",
    "A: One thing I see that we can improve on for tokenization is the \"-\" part. In the list above, \"pig-rabbit\" is separate with a \"-\" but when tokenized, is combined. Instead, there should be some other way to separate the two words."
   ]
  },
  {
   "cell_type": "markdown",
   "id": "a1594271",
   "metadata": {},
   "source": [
    "## Calculate descriptive statistics on the two sets of lyrics and compare the results. \n"
   ]
  },
  {
   "cell_type": "code",
   "execution_count": 17,
   "id": "e0ec8cfe",
   "metadata": {},
   "outputs": [],
   "source": [
    "sample_with_emoji[\"num_tokens\"] = sample_with_emoji[\"tokens\"].apply(len)"
   ]
  },
  {
   "cell_type": "code",
   "execution_count": 30,
   "id": "dc25e937",
   "metadata": {},
   "outputs": [
    {
     "name": "stdout",
     "output_type": "stream",
     "text": [
      "Average number of tokens per song for cher: 113.65822784810126\n",
      "Average number of tokens per song for robyn: 146.41346153846155\n",
      "\n",
      "Average number of tokens per description in sample_with_emoji: 7.7\n"
     ]
    }
   ],
   "source": [
    "# Average number of tokens per song \n",
    "lyrics_avg_tokens = {artist: sum(num_tokens.values())/len(num_tokens) for artist, num_tokens in lyrics_num_tokens.items()}\n",
    "\n",
    "# Num_tokens\n",
    "sample_with_emoji[\"num_tokens\"] = sample_with_emoji[\"tokens\"].apply(len)\n",
    "\n",
    "# Average number of tokens per description \n",
    "emoji_avg_tokens = sample_with_emoji[\"num_tokens\"].mean()\n",
    "\n",
    "for artist, avg in lyrics_avg_tokens.items():\n",
    "    print(f\"Average number of tokens per song for {artist}: {avg}\")\n",
    "\n",
    "print(f\"\\nAverage number of tokens per description in sample_with_emoji: {emoji_avg_tokens}\")"
   ]
  },
  {
   "cell_type": "markdown",
   "id": "67a2ada9",
   "metadata": {},
   "source": [
    "Q: what observations do you make about these data? \n",
    "\n",
    "A: One observation is that the avg number of tokens in songs is significantly higher that that of descriptions in sample_with_emojis. This is probably because songs usually have much more content than a Twitter description, which is usually short and brief. Another observation is that the avg tokens person for Robyn is higher than cher. This could be because Robyns songs on avg might be longer than Cher's, thus having more words/content in it. \n"
   ]
  },
  {
   "cell_type": "markdown",
   "id": "750aa526",
   "metadata": {},
   "source": [
    "## Find tokens uniquely related to a corpus\n",
    "\n",
    "Typically we would use TF-IDF to find unique tokens in documents. Unfortunately, we either have too few documents (if we view each data source as a single document) or too many (if we view each description as a separate document). In the latter case, our problem will be that descriptions tend to be short, so our matrix would be too sparse to support analysis. \n",
    "\n",
    "To avoid these problems, we will create a custom statistic to identify words that are uniquely related to each corpus. The idea is to find words that occur often in one corpus and infrequently in the other(s). Since corpora can be of different lengths, we will focus on the _concentration_ of tokens within a corpus. \"Concentration\" is simply the count of the token divided by the total corpus length. For instance, if a corpus had length 100,000 and a word appeared 1,000 times, then the concentration would be $\\frac{1000}{100000} = 0.01$. If the same token had a concentration of $0.005$ in another corpus, then the concentration ratio would be $\\frac{0.01}{0.005} = 2$. Very rare words can easily create infinite ratios, so you will also add a cutoff to your code so that a token must appear at least $n$ times for you to return it. \n",
    "\n",
    "An example of these calculations can be found in [this spreadsheet](https://docs.google.com/spreadsheets/d/1P87fkyslJhqXFnfYezNYrDrXp_GS8gwSATsZymv-9ms). Please don't hesitate to ask questions if this is confusing. \n",
    "\n",
    "In this section find 10 tokens for each of your four corpora that meet the following criteria: \n",
    "\n",
    "1. The token appears at least `n` times in all corpora\n",
    "1. The tokens are in the top 10 for the highest ratio of appearances in a given corpora vs appearances in other corpora.\n",
    "\n",
    "You will choose a cutoff for yourself based on the side of the corpus you're working with. If you're working with the Robyn-Cher corpora provided, `n=5` seems to perform reasonably well."
   ]
  },
  {
   "cell_type": "code",
   "execution_count": 31,
   "id": "ce72f0a0",
   "metadata": {},
   "outputs": [],
   "source": [
    "def unique_tokens(corpora, min_freq=5):\n",
    "    # Unique token for each corpus\n",
    "    unique_tokens_per_corpus = {}\n",
    "    all_tokens = Counter(token for corpus in corpora.values() for token in corpus)\n",
    "    \n",
    "    for corpus_name, corpus in corpora.items():\n",
    "        # Counter for tokens\n",
    "        corpus_counts = Counter(corpus)\n",
    "        # Lengtth of corpus\n",
    "        corpus_length = len(corpus)\n",
    "\n",
    "        other_tokens = all_tokens - corpus_counts\n",
    "        other_corpora_length = sum(all_tokens.values()) - corpus_length\n",
    "        \n",
    "        # Check count of token/token in other corpora\n",
    "        unique_tokens = {}\n",
    "        for token, count in corpus_counts.items():\n",
    "            if count > min_freq and token in other_tokens:\n",
    "                concentration_ratio = (count / corpus_length) / (other_tokens[token] / other_corpora_length)\n",
    "                unique_tokens[token] = concentration_ratio\n",
    "        \n",
    "        # Descending order\n",
    "        unique_tokens = sorted(unique_tokens.items(), key=lambda x: x[1], reverse=True)[:10]\n",
    "        unique_tokens_per_corpus[corpus_name] = unique_tokens\n",
    "\n",
    "    return unique_tokens_per_corpus"
   ]
  },
  {
   "cell_type": "code",
   "execution_count": 20,
   "id": "df69725f",
   "metadata": {},
   "outputs": [],
   "source": [
    "# Both iterating over\n",
    "lyrics_tokens = [token for song in lyrics_data for token in lyrics_data[song]]\n",
    "twitter_tokens = [token for user in twitter_data for token in twitter_data[user]]"
   ]
  },
  {
   "cell_type": "code",
   "execution_count": 21,
   "id": "bb7ac6a5",
   "metadata": {},
   "outputs": [],
   "source": [
    "# Returns flat list\n",
    "def flatten(nested_list):\n",
    "    return [item for sublist in nested_list if hasattr(sublist, '__iter__') for item in sublist if isinstance(item, str)]\n",
    "\n",
    "lyrics_tokens_flat = flatten(lyrics_tokens)\n",
    "twitter_tokens_flat = flatten(twitter_tokens)"
   ]
  },
  {
   "cell_type": "code",
   "execution_count": 32,
   "id": "eb914f44",
   "metadata": {},
   "outputs": [
    {
     "name": "stdout",
     "output_type": "stream",
     "text": [
      "Unique tokens for lyrics:\n",
      " _: 24.349641848081138\n",
      "b: 2.3420822754246293\n",
      "h: 2.2093435598131426\n",
      "w: 2.0807479199100527\n",
      "y: 2.0179490176779877\n",
      "c: 1.7962030614150595\n",
      "o: 1.5293227946485741\n",
      "r: 1.5150079316655987\n",
      "v: 1.4559063847641998\n",
      "e: 1.3952468235635282 \n",
      "\n",
      "Unique tokens for twitter:\n",
      " z: 21.58979011136369\n",
      "7: 6.628020974592627\n",
      "6: 4.165835866149907\n",
      "x: 4.101556476465138\n",
      "9: 3.769932006405101\n",
      "0: 3.505332357632267\n",
      "3: 2.7734002924237533\n",
      "2: 1.6767240694574903\n",
      "8: 1.6462672926307116\n",
      "j: 1.4449856591315193 \n",
      "\n"
     ]
    }
   ],
   "source": [
    "corpora_dict = {\n",
    "    \"lyrics\": lyrics_tokens_flat,\n",
    "    \"twitter\": twitter_tokens_flat,\n",
    "}\n",
    "\n",
    "unique_tokens_dict = unique_tokens(corpora_dict, min_freq=5)\n",
    "\n",
    "for name, tokens in unique_tokens_dict.items():\n",
    "    print(f\"Unique tokens for {name}:\\n\", \"\\n\".join([f\"{t}: {r}\" for t, r in tokens]), \"\\n\")"
   ]
  },
  {
   "cell_type": "markdown",
   "id": "53526fcd",
   "metadata": {},
   "source": [
    "Q: What are some observations about the top tokens? Do you notice any interesting items on the list? \n",
    "\n",
    "A: An observation that I can see is that for unique tokens for lyrics, all are letters of the alphabet, except for \"_\". Another observation is that the unique tokens for twitter is mostly numbers. An interesting item on the list is \"_\" and \"z\" which are the highest."
   ]
  },
  {
   "cell_type": "markdown",
   "id": "9f4f52b3",
   "metadata": {},
   "source": [
    "## Build word clouds for all four corpora. \n",
    "\n",
    "For building wordclouds, we'll follow exactly the code of the text. The code in this section can be found [here](https://github.com/blueprints-for-text-analytics-python/blueprints-text/blob/master/ch01/First_Insights.ipynb). If you haven't already, you should absolutely clone the repository that accompanies the book. \n"
   ]
  },
  {
   "cell_type": "code",
   "execution_count": 33,
   "id": "e9e90765",
   "metadata": {},
   "outputs": [],
   "source": [
    "def clean_text(text):\n",
    "    # Keeping printable characters\n",
    "    return ''.join(c for c in text if c in printable)\n",
    "\n",
    "def is_valid_word(word):\n",
    "    # Word is valid if contain at least one alphabet letter and is more than 1 character long\n",
    "    return len(word) > 1 and any(char.isalpha() for char in word)\n",
    "\n",
    "def deEmojify(text):\n",
    "    # Remove emojis with a regex pattern\n",
    "    emoji_pattern = re.compile(\"[\"\n",
    "        u\"\\U0001F600-\\U0001F64F\"  # emoticons\n",
    "        u\"\\U0001F300-\\U0001F5FF\"  # pictographs\n",
    "        u\"\\U0001F680-\\U0001F6FF\"  # map symbols\n",
    "        u\"\\U0001F1E0-\\U0001F1FF\"  # flags\n",
    "                           \"]+\", flags = re.UNICODE)\n",
    "    return emoji_pattern.sub(r'', text)"
   ]
  },
  {
   "cell_type": "code",
   "execution_count": 36,
   "id": "ed9ec8b2",
   "metadata": {},
   "outputs": [],
   "source": [
    "def wordcloud(word_freq, title=None, max_words=200, stopwords=None):\n",
    "    wc = WordCloud(width=800, height=400, background_color=\"black\", colormap=\"Paired\", \n",
    "                   max_font_size=150, max_words=max_words,\n",
    "                   font_path='C:\\\\Users\\\\micha\\\\applied text mining\\\\mod 3\\\\calibri.ttf'\n",
    "    )\n",
    "\n",
    "    # Convert pandas Series to dictionary\n",
    "    if isinstance(word_freq, pd.Series):\n",
    "        word_freq = word_freq.fillna(0).to_dict()\n",
    "\n",
    "    # Remove stopwords\n",
    "    if stopwords:\n",
    "        word_freq = {k: v for k, v in word_freq.items() if k not in stopwords}\n",
    "\n",
    "    # Generate wordcloud\n",
    "    wc.generate_from_frequencies(word_freq)\n",
    " \n",
    "    plt.imshow(wc, interpolation='bilinear')\n",
    "    plt.title(title) \n",
    "    plt.axis(\"off\")"
   ]
  },
  {
   "cell_type": "code",
   "execution_count": 38,
   "id": "413b42a8",
   "metadata": {},
   "outputs": [],
   "source": [
    "def clean_text(text):\n",
    "    printable = set(chr(i) for i in range(32, 127))\n",
    "    # Keep printable character\n",
    "    return ''.join(c for c in text if c in printable)"
   ]
  },
  {
   "cell_type": "code",
   "execution_count": 40,
   "id": "1353c900",
   "metadata": {},
   "outputs": [
    {
     "data": {
      "image/png": "[encoded data removed]",
      "text/plain": [
       "<Figure size 432x288 with 1 Axes>"
      ]
     },
     "metadata": {
      "needs_background": "light"
     },
     "output_type": "display_data"
    }
   ],
   "source": [
    "word_freq_dict = Counter(word for tokens in sample_with_emoji['description'].apply(word_tokenize) for word in tokens)\n",
    "\n",
    "# Clean words, remove invalids, de-emote, and remove entries with empty keys\n",
    "word_freq_dict = {\n",
    "    deEmojify(re.sub(r'\\W+', '', clean_text(word))): freq\n",
    "    for word, freq in word_freq_dict.items() \n",
    "    if is_valid_word(word) and word.strip()\n",
    "}\n",
    "\n",
    "# Make Wordcloud\n",
    "wordcloud(word_freq_dict, title=\"Wordcloud for text with emoji\")"
   ]
  },
  {
   "cell_type": "markdown",
   "id": "b11a2e53",
   "metadata": {},
   "source": [
    "Q: What observations do you have about these (relatively straightforward) wordclouds? \n",
    "\n",
    "A: The biggest word in the wordcloud is \"and\", which makes sense since it is a really common word and most sentence usually has it. Other big words in the wordcloud also include \"are\", \"in\", and \"We\" which are relatively common words. \"We\" is also capitalized as well meaning that it is used in the beginning of sentences a lot. "
   ]
  }
 ],
 "metadata": {
  "kernelspec": {
   "display_name": "Python 3 (ipykernel)",
   "language": "python",
   "name": "python3"
  },
  "language_info": {
   "codemirror_mode": {
    "name": "ipython",
    "version": 3
   },
   "file_extension": ".py",
   "mimetype": "text/x-python",
   "name": "python",
   "nbconvert_exporter": "python",
   "pygments_lexer": "ipython3",
   "version": "3.9.5"
  }
 },
 "nbformat": 4,
 "nbformat_minor": 5
}
